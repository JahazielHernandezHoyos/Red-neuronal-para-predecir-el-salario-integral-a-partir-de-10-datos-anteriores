{
  "nbformat": 4,
  "nbformat_minor": 0,
  "metadata": {
    "colab": {
      "name": "link.ipynb",
      "provenance": [],
      "toc_visible": true,
      "authorship_tag": "ABX9TyMwSbeIYQPbd5Cudsh/RLTq",
      "include_colab_link": true
    },
    "kernelspec": {
      "name": "python3",
      "display_name": "Python 3"
    },
    "language_info": {
      "name": "python"
    }
  },
  "cells": [
    {
      "cell_type": "markdown",
      "metadata": {
        "id": "view-in-github",
        "colab_type": "text"
      },
      "source": [
        "<a href=\"https://colab.research.google.com/github/JahazielHernandezHoyos/Red-neuronal-para-predecir-el-salario-integral-a-partir-de-10-datos-anteriores/blob/main/link.ipynb\" target=\"_parent\"><img src=\"https://colab.research.google.com/assets/colab-badge.svg\" alt=\"Open In Colab\"/></a>"
      ]
    },
    {
      "cell_type": "code",
      "metadata": {
        "id": "dDFHa2-Y-5-C"
      },
      "source": [
        "https://github.com/JahazielHernandezHoyos/Red-neuronal-para-predecir-el-salario-integral-a-partir-de-10-datos-anteriores/blob/main/entrenamiento.py"
      ],
      "execution_count": null,
      "outputs": []
    },
    {
      "cell_type": "code",
      "metadata": {
        "id": "j8oVbDBS-_Ys"
      },
      "source": [
        ""
      ],
      "execution_count": null,
      "outputs": []
    },
    {
      "cell_type": "markdown",
      "metadata": {
        "id": "cRMXXxew_GT7"
      },
      "source": [
        "# Nueva sección"
      ]
    }
  ]
}